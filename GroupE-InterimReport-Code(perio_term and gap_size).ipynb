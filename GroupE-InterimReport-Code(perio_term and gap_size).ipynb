{
 "cells": [
  {
   "cell_type": "code",
   "execution_count": 2,
   "metadata": {},
   "outputs": [],
   "source": [
    "import pandas as pd\n",
    "import matplotlib.pyplot as plt\n",
    "#import mplfinance as mpf\n",
    "import glob"
   ]
  },
  {
   "cell_type": "code",
   "execution_count": 2,
   "metadata": {},
   "outputs": [],
   "source": [
    "class HistoryData:\n",
    "    def __init__(self,file_path):\n",
    "        self.file_path=file_path\n",
    "    \n",
    "    # read file method\n",
    "    def quotes(self):\n",
    "        df=pd.read_csv(self.file_path)\n",
    "        # delete no volume rows\n",
    "        # df=df[df['Volume'] != 0]\n",
    "        # convert col into date type\n",
    "        df['Date']=pd.to_datetime(df['Date'])\n",
    "        # set index\n",
    "        #df.set_index('Date',inplace=True)\n",
    "        # only keep the date after 1965\n",
    "        #df=df['2007':]\n",
    "        # drop volume and adj close\n",
    "        df.drop(['Volume','Adj Close'],axis=1,inplace=True)\n",
    "        return df\n",
    "    \n",
    "    # plot candle chart\n",
    "    def candleplot(self,date):\n",
    "        mc = mpf.make_marketcolors(up='g',down='r')\n",
    "        s  = mpf.make_mpf_style(marketcolors=mc)\n",
    "        mpf.plot(quotes.loc[date[0]:date[1]],type='candle',figratio=(15,7),title='S&P 500',style=s)"
   ]
  },
  {
   "cell_type": "code",
   "execution_count": 3,
   "metadata": {},
   "outputs": [
    {
     "data": {
      "text/plain": [
       "{'AAPL': 'C:/Users/hr/Desktop/advanced python/project/project_data\\\\AAPL.csv',\n",
       " 'AMZN': 'C:/Users/hr/Desktop/advanced python/project/project_data\\\\AMZN.csv',\n",
       " 'BIDU': 'C:/Users/hr/Desktop/advanced python/project/project_data\\\\BIDU.csv',\n",
       " 'CSCO': 'C:/Users/hr/Desktop/advanced python/project/project_data\\\\CSCO.csv',\n",
       " 'GOOG': 'C:/Users/hr/Desktop/advanced python/project/project_data\\\\GOOG.csv',\n",
       " 'IBM': 'C:/Users/hr/Desktop/advanced python/project/project_data\\\\IBM.csv',\n",
       " 'MSFT': 'C:/Users/hr/Desktop/advanced python/project/project_data\\\\MSFT.csv'}"
      ]
     },
     "execution_count": 3,
     "metadata": {},
     "output_type": "execute_result"
    }
   ],
   "source": [
    "#read all the files \n",
    "allfiles = glob.glob('C:/Users/hr/Desktop/advanced python/project/project_data/*.csv')\n",
    "stock_list=['AAPL','AMZN','BIDU','CSCO','GOOG','IBM','MSFT']\n",
    "stock_dic={}\n",
    "for i in range(len(allfiles)):\n",
    "    stock_dic[stock_list[i]]=allfiles[i]\n",
    "stock_dic"
   ]
  },
  {
   "cell_type": "code",
   "execution_count": 4,
   "metadata": {},
   "outputs": [
    {
     "name": "stderr",
     "output_type": "stream",
     "text": [
      "D:\\anaconda\\lib\\site-packages\\ipykernel_launcher.py:52: SettingWithCopyWarning: \n",
      "A value is trying to be set on a copy of a slice from a DataFrame.\n",
      "Try using .loc[row_indexer,col_indexer] = value instead\n",
      "\n",
      "See the caveats in the documentation: http://pandas.pydata.org/pandas-docs/stable/indexing.html#indexing-view-versus-copy\n"
     ]
    }
   ],
   "source": [
    "# using for loop to automatically read all stocks files\n",
    "for key in stock_dic.keys():\n",
    "    #preprocess the raw data and another for loop to detect ‘Gap’.\n",
    "    data=HistoryData(stock_dic[key])\n",
    "    quotes=data.quotes()\n",
    "    gap=['None']\n",
    "    length=len(quotes['Date'])\n",
    "\n",
    "    #to classify the ‘Gap’(up,down or none). \n",
    "    for i in range(1,length):\n",
    "        if quotes.iloc[i-1]['High'] < quotes.iloc[i]['Low']:\n",
    "            gap.append('up')\n",
    "        elif quotes.iloc[i-1]['Low'] > quotes.iloc[i]['High']:\n",
    "            gap.append('down')\n",
    "        else:\n",
    "            gap.append('None')\n",
    "    \n",
    "    #Then,put all the results in a new column called ‘Gap’\n",
    "    quotes['Gap']=gap\n",
    "\n",
    "    #same way adding a new column called 'Gap Variance'\n",
    "    gap_var=[0]\n",
    "    for i in range(1,length):\n",
    "        if quotes.iloc[i-1]['High'] < quotes.iloc[i]['Low']:\n",
    "            gap_var.append((quotes.iloc[i]['Low']-quotes.iloc[i-1]['High'])/quotes.iloc[i-1]['Close'])\n",
    "        elif quotes.iloc[i-1]['Low'] > quotes.iloc[i]['High']:\n",
    "            gap_var.append((quotes.iloc[i]['High']-quotes.iloc[i-1]['Low'])/quotes.iloc[i-1]['Close'])\n",
    "        else:\n",
    "            gap_var.append(0)\n",
    "\n",
    "    #put all the results in a new column called ‘Gap’\n",
    "    quotes['Gap Variance']=gap_var\n",
    "\n",
    "    #filter the gap data\n",
    "    df_gaps=quotes[quotes['Gap Variance']!=0]\n",
    "\n",
    "    #find the period and record it in a list\n",
    "    period=[]\n",
    "    for i in range(1,length):\n",
    "        if quotes.iloc[i]['Gap'] == 'down':\n",
    "            gap_price=quotes.iloc[i-1]['Low']\n",
    "            for j in range(i+1,length):\n",
    "                if quotes.iloc[j]['High'] >= gap_price:\n",
    "                    period.append(j-i)\n",
    "                    break\n",
    "            else:\n",
    "                period.append('Not filled')\n",
    "        elif quotes.iloc[i]['Gap'] == 'up':\n",
    "            gap_price=quotes.iloc[i-1]['High']\n",
    "            for j in range(i+1,length):\n",
    "                if quotes.iloc[j]['Low'] <= gap_price:\n",
    "                    period.append(j-i)\n",
    "                    break\n",
    "            else:\n",
    "                period.append('Not filled')\n",
    "    #nput this list to the DataFrame to become a new column\n",
    "    df_gaps['Period']=period\n",
    "    #Save the changed files\n",
    "    address=\"C:/Users/hr/Desktop/advanced python/project/project_data2/\"+ key+\".csv\"\n",
    "    df_gaps.to_csv(address,index=False,sep=',')"
   ]
  },
  {
   "cell_type": "code",
   "execution_count": null,
   "metadata": {},
   "outputs": [],
   "source": []
  },
  {
   "cell_type": "code",
   "execution_count": 5,
   "metadata": {},
   "outputs": [],
   "source": [
    "import glob"
   ]
  },
  {
   "cell_type": "code",
   "execution_count": 6,
   "metadata": {},
   "outputs": [],
   "source": [
    "#read all the changed files \n",
    "allfiles = glob.glob('C:/Users/hr/Desktop/advanced python/project/project_data2/*.csv')\n",
    "#Union all data\n",
    "df = pd.concat((pd.read_csv(f) for f in allfiles))"
   ]
  },
  {
   "cell_type": "code",
   "execution_count": 18,
   "metadata": {},
   "outputs": [
    {
     "data": {
      "text/html": [
       "<div>\n",
       "<style scoped>\n",
       "    .dataframe tbody tr th:only-of-type {\n",
       "        vertical-align: middle;\n",
       "    }\n",
       "\n",
       "    .dataframe tbody tr th {\n",
       "        vertical-align: top;\n",
       "    }\n",
       "\n",
       "    .dataframe thead th {\n",
       "        text-align: right;\n",
       "    }\n",
       "</style>\n",
       "<table border=\"1\" class=\"dataframe\">\n",
       "  <thead>\n",
       "    <tr style=\"text-align: right;\">\n",
       "      <th></th>\n",
       "      <th>Date</th>\n",
       "      <th>Open</th>\n",
       "      <th>High</th>\n",
       "      <th>Low</th>\n",
       "      <th>Close</th>\n",
       "      <th>Gap</th>\n",
       "      <th>Gap Variance</th>\n",
       "      <th>Period</th>\n",
       "    </tr>\n",
       "  </thead>\n",
       "  <tbody>\n",
       "    <tr>\n",
       "      <th>0</th>\n",
       "      <td>2007-01-10</td>\n",
       "      <td>13.535714</td>\n",
       "      <td>13.971429</td>\n",
       "      <td>13.350000</td>\n",
       "      <td>13.857142</td>\n",
       "      <td>up</td>\n",
       "      <td>0.005077</td>\n",
       "      <td>5</td>\n",
       "    </tr>\n",
       "    <tr>\n",
       "      <th>1</th>\n",
       "      <td>2007-01-12</td>\n",
       "      <td>13.512857</td>\n",
       "      <td>13.580000</td>\n",
       "      <td>13.318571</td>\n",
       "      <td>13.517143</td>\n",
       "      <td>down</td>\n",
       "      <td>-0.000418</td>\n",
       "      <td>1</td>\n",
       "    </tr>\n",
       "    <tr>\n",
       "      <th>2</th>\n",
       "      <td>2007-01-16</td>\n",
       "      <td>13.668571</td>\n",
       "      <td>13.892858</td>\n",
       "      <td>13.635715</td>\n",
       "      <td>13.871428</td>\n",
       "      <td>up</td>\n",
       "      <td>0.004122</td>\n",
       "      <td>1</td>\n",
       "    </tr>\n",
       "    <tr>\n",
       "      <th>3</th>\n",
       "      <td>2007-01-18</td>\n",
       "      <td>13.157143</td>\n",
       "      <td>13.158571</td>\n",
       "      <td>12.721429</td>\n",
       "      <td>12.724286</td>\n",
       "      <td>down</td>\n",
       "      <td>-0.028541</td>\n",
       "      <td>46</td>\n",
       "    </tr>\n",
       "    <tr>\n",
       "      <th>4</th>\n",
       "      <td>2007-02-27</td>\n",
       "      <td>12.328571</td>\n",
       "      <td>12.440000</td>\n",
       "      <td>11.915714</td>\n",
       "      <td>11.990000</td>\n",
       "      <td>down</td>\n",
       "      <td>-0.005988</td>\n",
       "      <td>2</td>\n",
       "    </tr>\n",
       "  </tbody>\n",
       "</table>\n",
       "</div>"
      ],
      "text/plain": [
       "         Date       Open       High        Low      Close   Gap  Gap Variance  \\\n",
       "0  2007-01-10  13.535714  13.971429  13.350000  13.857142    up      0.005077   \n",
       "1  2007-01-12  13.512857  13.580000  13.318571  13.517143  down     -0.000418   \n",
       "2  2007-01-16  13.668571  13.892858  13.635715  13.871428    up      0.004122   \n",
       "3  2007-01-18  13.157143  13.158571  12.721429  12.724286  down     -0.028541   \n",
       "4  2007-02-27  12.328571  12.440000  11.915714  11.990000  down     -0.005988   \n",
       "\n",
       "  Period  \n",
       "0      5  \n",
       "1      1  \n",
       "2      1  \n",
       "3     46  \n",
       "4      2  "
      ]
     },
     "execution_count": 18,
     "metadata": {},
     "output_type": "execute_result"
    }
   ],
   "source": [
    "df.head()"
   ]
  },
  {
   "cell_type": "code",
   "execution_count": 8,
   "metadata": {},
   "outputs": [
    {
     "data": {
      "image/png": "[encoded data removed]",
      "text/plain": [
       "<Figure size 432x432 with 1 Axes>"
      ]
     },
     "metadata": {},
     "output_type": "display_data"
    }
   ],
   "source": [
    "# plot the amount of gaps\n",
    "fig, ax1=plt.subplots(figsize=(6,6))\n",
    "ax1.pie(df['Gap'].value_counts(),labels=['Up','Down'],autopct='%.1f%%')\n",
    "ax1.set_title('Gaps amount')\n",
    "\n",
    "plt.show()"
   ]
  },
  {
   "cell_type": "code",
   "execution_count": 13,
   "metadata": {},
   "outputs": [],
   "source": [
    "# Find the number of filled and unfilled gaps.\n",
    "df.shape\n",
    "df_notfilled=df[df['Period']=='Not filled']\n",
    "notfilled_number=len(df_notfilled)"
   ]
  },
  {
   "cell_type": "code",
   "execution_count": 14,
   "metadata": {},
   "outputs": [
    {
     "data": {
      "image/png": "[encoded data removed]",
      "text/plain": [
       "<Figure size 720x432 with 1 Axes>"
      ]
     },
     "metadata": {},
     "output_type": "display_data"
    }
   ],
   "source": [
    "fig, ax1=plt.subplots(figsize=(10,6))\n",
    "ax1.pie([df.shape[0],notfilled_number],labels=['filled','not filled'],autopct='%.1f%%')\n",
    "ax1.set_title('Filled gap amount')\n",
    "\n",
    "plt.show()"
   ]
  },
  {
   "cell_type": "code",
   "execution_count": 15,
   "metadata": {},
   "outputs": [
    {
     "name": "stdout",
     "output_type": "stream",
     "text": [
      "0.016256593800234753 0.008990842161156589\n"
     ]
    }
   ],
   "source": [
    "import numpy as np\n",
    "\n",
    "# Find the average and standard deviation\n",
    "gap_v_abs=df['Gap Variance'].abs()\n",
    "average=np.mean(gap_v_abs)\n",
    "av_std = np.std(gap_v_abs,ddof=1)\n",
    "print(av_std,average)"
   ]
  },
  {
   "cell_type": "code",
   "execution_count": 16,
   "metadata": {},
   "outputs": [],
   "source": [
    "# using the standard deviation to classify the size of gap\n",
    "# gaps between 0 and 1 standard deviation are small\n",
    "# gaps between 1 and 2 standard deviation are middle\n",
    "# gaps larger than 2 standard deviation are large\n",
    "small_0=average-av_std#(μ-σ)\n",
    "small_1=average+av_std#(μ+σ)\n",
    "mid_0=average-(av_std*2)#(μ-2σ)\n",
    "mid_1=average+(av_std*2)#(μ+2σ)"
   ]
  },
  {
   "cell_type": "code",
   "execution_count": 19,
   "metadata": {},
   "outputs": [],
   "source": [
    "gap_size=[]\n",
    "for i in df['Gap Variance']:\n",
    "    if i>=small_0 and i<=small_1:\n",
    "        gap_size.append('small')\n",
    "    elif i<small_0 and i>=mid_0:\n",
    "        gap_size.append('mid')\n",
    "    elif i>small_1 and i<=mid_1:\n",
    "        gap_size.append('mid')\n",
    "    else:\n",
    "        gap_size.append('large')\n",
    "df['gap_size']=gap_size"
   ]
  },
  {
   "cell_type": "code",
   "execution_count": 36,
   "metadata": {},
   "outputs": [
    {
     "data": {
      "image/png": "[encoded data removed]",
      "text/plain": [
       "<Figure size 432x432 with 1 Axes>"
      ]
     },
     "metadata": {},
     "output_type": "display_data"
    }
   ],
   "source": [
    "# plot the gap size pie chart\n",
    "fig, ax1=plt.subplots(figsize=(6,6))\n",
    "ax1.pie(dfa['gap_size'].value_counts(),labels=['small','mid','large'],autopct='%.1f%%')\n",
    "ax1.set_title('Gaps_size_count')\n",
    "\n",
    "plt.show()"
   ]
  },
  {
   "cell_type": "code",
   "execution_count": 21,
   "metadata": {},
   "outputs": [
    {
     "data": {
      "text/html": [
       "<div>\n",
       "<style scoped>\n",
       "    .dataframe tbody tr th:only-of-type {\n",
       "        vertical-align: middle;\n",
       "    }\n",
       "\n",
       "    .dataframe tbody tr th {\n",
       "        vertical-align: top;\n",
       "    }\n",
       "\n",
       "    .dataframe thead th {\n",
       "        text-align: right;\n",
       "    }\n",
       "</style>\n",
       "<table border=\"1\" class=\"dataframe\">\n",
       "  <thead>\n",
       "    <tr style=\"text-align: right;\">\n",
       "      <th></th>\n",
       "      <th>Date</th>\n",
       "      <th>Open</th>\n",
       "      <th>High</th>\n",
       "      <th>Low</th>\n",
       "      <th>Close</th>\n",
       "      <th>Gap</th>\n",
       "      <th>Gap Variance</th>\n",
       "      <th>Period</th>\n",
       "      <th>gap_size</th>\n",
       "    </tr>\n",
       "  </thead>\n",
       "  <tbody>\n",
       "    <tr>\n",
       "      <th>0</th>\n",
       "      <td>2007-01-10</td>\n",
       "      <td>13.535714</td>\n",
       "      <td>13.971429</td>\n",
       "      <td>13.350000</td>\n",
       "      <td>13.857142</td>\n",
       "      <td>up</td>\n",
       "      <td>0.005077</td>\n",
       "      <td>5</td>\n",
       "      <td>small</td>\n",
       "    </tr>\n",
       "    <tr>\n",
       "      <th>1</th>\n",
       "      <td>2007-01-12</td>\n",
       "      <td>13.512857</td>\n",
       "      <td>13.580000</td>\n",
       "      <td>13.318571</td>\n",
       "      <td>13.517143</td>\n",
       "      <td>down</td>\n",
       "      <td>-0.000418</td>\n",
       "      <td>1</td>\n",
       "      <td>small</td>\n",
       "    </tr>\n",
       "    <tr>\n",
       "      <th>2</th>\n",
       "      <td>2007-01-16</td>\n",
       "      <td>13.668571</td>\n",
       "      <td>13.892858</td>\n",
       "      <td>13.635715</td>\n",
       "      <td>13.871428</td>\n",
       "      <td>up</td>\n",
       "      <td>0.004122</td>\n",
       "      <td>1</td>\n",
       "      <td>small</td>\n",
       "    </tr>\n",
       "    <tr>\n",
       "      <th>3</th>\n",
       "      <td>2007-01-18</td>\n",
       "      <td>13.157143</td>\n",
       "      <td>13.158571</td>\n",
       "      <td>12.721429</td>\n",
       "      <td>12.724286</td>\n",
       "      <td>down</td>\n",
       "      <td>-0.028541</td>\n",
       "      <td>46</td>\n",
       "      <td>large</td>\n",
       "    </tr>\n",
       "    <tr>\n",
       "      <th>4</th>\n",
       "      <td>2007-02-27</td>\n",
       "      <td>12.328571</td>\n",
       "      <td>12.440000</td>\n",
       "      <td>11.915714</td>\n",
       "      <td>11.990000</td>\n",
       "      <td>down</td>\n",
       "      <td>-0.005988</td>\n",
       "      <td>2</td>\n",
       "      <td>small</td>\n",
       "    </tr>\n",
       "  </tbody>\n",
       "</table>\n",
       "</div>"
      ],
      "text/plain": [
       "         Date       Open       High        Low      Close   Gap  Gap Variance  \\\n",
       "0  2007-01-10  13.535714  13.971429  13.350000  13.857142    up      0.005077   \n",
       "1  2007-01-12  13.512857  13.580000  13.318571  13.517143  down     -0.000418   \n",
       "2  2007-01-16  13.668571  13.892858  13.635715  13.871428    up      0.004122   \n",
       "3  2007-01-18  13.157143  13.158571  12.721429  12.724286  down     -0.028541   \n",
       "4  2007-02-27  12.328571  12.440000  11.915714  11.990000  down     -0.005988   \n",
       "\n",
       "  Period gap_size  \n",
       "0      5    small  \n",
       "1      1    small  \n",
       "2      1    small  \n",
       "3     46    large  \n",
       "4      2    small  "
      ]
     },
     "execution_count": 21,
     "metadata": {},
     "output_type": "execute_result"
    }
   ],
   "source": [
    "df.head()"
   ]
  },
  {
   "cell_type": "code",
   "execution_count": null,
   "metadata": {},
   "outputs": [],
   "source": []
  },
  {
   "cell_type": "code",
   "execution_count": 23,
   "metadata": {},
   "outputs": [
    {
     "name": "stderr",
     "output_type": "stream",
     "text": [
      "D:\\anaconda\\lib\\site-packages\\ipykernel_launcher.py:2: SettingWithCopyWarning: \n",
      "A value is trying to be set on a copy of a slice from a DataFrame.\n",
      "Try using .loc[row_indexer,col_indexer] = value instead\n",
      "\n",
      "See the caveats in the documentation: http://pandas.pydata.org/pandas-docs/stable/indexing.html#indexing-view-versus-copy\n",
      "  \n"
     ]
    }
   ],
   "source": [
    "# Filter all fiiled gaps\n",
    "dfa=df[df['Period']!='Not filled']\n",
    "dfa['Period']=dfa['Period'].astype('int64')"
   ]
  },
  {
   "cell_type": "code",
   "execution_count": 24,
   "metadata": {},
   "outputs": [],
   "source": [
    "dfa=dfa.reset_index()"
   ]
  },
  {
   "cell_type": "code",
   "execution_count": 29,
   "metadata": {},
   "outputs": [],
   "source": [
    "dfa.drop('index',axis=1,inplace=True)"
   ]
  },
  {
   "cell_type": "code",
   "execution_count": 31,
   "metadata": {},
   "outputs": [
    {
     "data": {
      "text/html": [
       "<div>\n",
       "<style scoped>\n",
       "    .dataframe tbody tr th:only-of-type {\n",
       "        vertical-align: middle;\n",
       "    }\n",
       "\n",
       "    .dataframe tbody tr th {\n",
       "        vertical-align: top;\n",
       "    }\n",
       "\n",
       "    .dataframe thead th {\n",
       "        text-align: right;\n",
       "    }\n",
       "</style>\n",
       "<table border=\"1\" class=\"dataframe\">\n",
       "  <thead>\n",
       "    <tr style=\"text-align: right;\">\n",
       "      <th></th>\n",
       "      <th>Date</th>\n",
       "      <th>Open</th>\n",
       "      <th>High</th>\n",
       "      <th>Low</th>\n",
       "      <th>Close</th>\n",
       "      <th>Gap</th>\n",
       "      <th>Gap Variance</th>\n",
       "      <th>Period</th>\n",
       "      <th>gap_size</th>\n",
       "    </tr>\n",
       "  </thead>\n",
       "  <tbody>\n",
       "    <tr>\n",
       "      <th>0</th>\n",
       "      <td>2007-01-10</td>\n",
       "      <td>13.535714</td>\n",
       "      <td>13.971429</td>\n",
       "      <td>13.350000</td>\n",
       "      <td>13.857142</td>\n",
       "      <td>up</td>\n",
       "      <td>0.005077</td>\n",
       "      <td>5</td>\n",
       "      <td>small</td>\n",
       "    </tr>\n",
       "    <tr>\n",
       "      <th>1</th>\n",
       "      <td>2007-01-12</td>\n",
       "      <td>13.512857</td>\n",
       "      <td>13.580000</td>\n",
       "      <td>13.318571</td>\n",
       "      <td>13.517143</td>\n",
       "      <td>down</td>\n",
       "      <td>-0.000418</td>\n",
       "      <td>1</td>\n",
       "      <td>small</td>\n",
       "    </tr>\n",
       "    <tr>\n",
       "      <th>2</th>\n",
       "      <td>2007-01-16</td>\n",
       "      <td>13.668571</td>\n",
       "      <td>13.892858</td>\n",
       "      <td>13.635715</td>\n",
       "      <td>13.871428</td>\n",
       "      <td>up</td>\n",
       "      <td>0.004122</td>\n",
       "      <td>1</td>\n",
       "      <td>small</td>\n",
       "    </tr>\n",
       "    <tr>\n",
       "      <th>3</th>\n",
       "      <td>2007-01-18</td>\n",
       "      <td>13.157143</td>\n",
       "      <td>13.158571</td>\n",
       "      <td>12.721429</td>\n",
       "      <td>12.724286</td>\n",
       "      <td>down</td>\n",
       "      <td>-0.028541</td>\n",
       "      <td>46</td>\n",
       "      <td>large</td>\n",
       "    </tr>\n",
       "    <tr>\n",
       "      <th>4</th>\n",
       "      <td>2007-02-27</td>\n",
       "      <td>12.328571</td>\n",
       "      <td>12.440000</td>\n",
       "      <td>11.915714</td>\n",
       "      <td>11.990000</td>\n",
       "      <td>down</td>\n",
       "      <td>-0.005988</td>\n",
       "      <td>2</td>\n",
       "      <td>small</td>\n",
       "    </tr>\n",
       "  </tbody>\n",
       "</table>\n",
       "</div>"
      ],
      "text/plain": [
       "         Date       Open       High        Low      Close   Gap  Gap Variance  \\\n",
       "0  2007-01-10  13.535714  13.971429  13.350000  13.857142    up      0.005077   \n",
       "1  2007-01-12  13.512857  13.580000  13.318571  13.517143  down     -0.000418   \n",
       "2  2007-01-16  13.668571  13.892858  13.635715  13.871428    up      0.004122   \n",
       "3  2007-01-18  13.157143  13.158571  12.721429  12.724286  down     -0.028541   \n",
       "4  2007-02-27  12.328571  12.440000  11.915714  11.990000  down     -0.005988   \n",
       "\n",
       "   Period gap_size  \n",
       "0       5    small  \n",
       "1       1    small  \n",
       "2       1    small  \n",
       "3      46    large  \n",
       "4       2    small  "
      ]
     },
     "execution_count": 31,
     "metadata": {},
     "output_type": "execute_result"
    }
   ],
   "source": [
    "dfa.head()"
   ]
  },
  {
   "cell_type": "code",
   "execution_count": 32,
   "metadata": {},
   "outputs": [
    {
     "data": {
      "image/png": "[encoded data removed]",
      "text/plain": [
       "<Figure size 720x432 with 1 Axes>"
      ]
     },
     "metadata": {
      "needs_background": "light"
     },
     "output_type": "display_data"
    }
   ],
   "source": [
    "# plot the distribution of period\n",
    "fig, ax1=plt.subplots(figsize=(10,6))\n",
    "ax1.hist(dfa['Period'],bins=82)\n",
    "ax1.set_title('Gap periods distribution')\n",
    "ax1.set_ylabel('Frequncey')\n",
    "ax1.set_xlabel('Period (business day)')\n",
    "\n",
    "plt.show()"
   ]
  },
  {
   "cell_type": "code",
   "execution_count": 33,
   "metadata": {},
   "outputs": [],
   "source": [
    "# Classify period term.\n",
    "periodsize=[]\n",
    "for i in range(len(dfa.index)):\n",
    "    if dfa.loc[i,'Period']<=10:\n",
    "        periodsize.append('short')\n",
    "    elif dfa.loc[i,'Period']>=11 and dfa.loc[i,'Period']<=261:\n",
    "        periodsize.append('mid')\n",
    "    else:\n",
    "        periodsize.append('long')"
   ]
  },
  {
   "cell_type": "code",
   "execution_count": 35,
   "metadata": {},
   "outputs": [
    {
     "data": {
      "text/html": [
       "<div>\n",
       "<style scoped>\n",
       "    .dataframe tbody tr th:only-of-type {\n",
       "        vertical-align: middle;\n",
       "    }\n",
       "\n",
       "    .dataframe tbody tr th {\n",
       "        vertical-align: top;\n",
       "    }\n",
       "\n",
       "    .dataframe thead th {\n",
       "        text-align: right;\n",
       "    }\n",
       "</style>\n",
       "<table border=\"1\" class=\"dataframe\">\n",
       "  <thead>\n",
       "    <tr style=\"text-align: right;\">\n",
       "      <th></th>\n",
       "      <th>Date</th>\n",
       "      <th>Open</th>\n",
       "      <th>High</th>\n",
       "      <th>Low</th>\n",
       "      <th>Close</th>\n",
       "      <th>Gap</th>\n",
       "      <th>Gap Variance</th>\n",
       "      <th>Period</th>\n",
       "      <th>gap_size</th>\n",
       "      <th>period_term</th>\n",
       "    </tr>\n",
       "  </thead>\n",
       "  <tbody>\n",
       "    <tr>\n",
       "      <th>0</th>\n",
       "      <td>2007-01-10</td>\n",
       "      <td>13.535714</td>\n",
       "      <td>13.971429</td>\n",
       "      <td>13.350000</td>\n",
       "      <td>13.857142</td>\n",
       "      <td>up</td>\n",
       "      <td>0.005077</td>\n",
       "      <td>5</td>\n",
       "      <td>small</td>\n",
       "      <td>short</td>\n",
       "    </tr>\n",
       "    <tr>\n",
       "      <th>1</th>\n",
       "      <td>2007-01-12</td>\n",
       "      <td>13.512857</td>\n",
       "      <td>13.580000</td>\n",
       "      <td>13.318571</td>\n",
       "      <td>13.517143</td>\n",
       "      <td>down</td>\n",
       "      <td>-0.000418</td>\n",
       "      <td>1</td>\n",
       "      <td>small</td>\n",
       "      <td>short</td>\n",
       "    </tr>\n",
       "    <tr>\n",
       "      <th>2</th>\n",
       "      <td>2007-01-16</td>\n",
       "      <td>13.668571</td>\n",
       "      <td>13.892858</td>\n",
       "      <td>13.635715</td>\n",
       "      <td>13.871428</td>\n",
       "      <td>up</td>\n",
       "      <td>0.004122</td>\n",
       "      <td>1</td>\n",
       "      <td>small</td>\n",
       "      <td>short</td>\n",
       "    </tr>\n",
       "    <tr>\n",
       "      <th>3</th>\n",
       "      <td>2007-01-18</td>\n",
       "      <td>13.157143</td>\n",
       "      <td>13.158571</td>\n",
       "      <td>12.721429</td>\n",
       "      <td>12.724286</td>\n",
       "      <td>down</td>\n",
       "      <td>-0.028541</td>\n",
       "      <td>46</td>\n",
       "      <td>large</td>\n",
       "      <td>mid</td>\n",
       "    </tr>\n",
       "    <tr>\n",
       "      <th>4</th>\n",
       "      <td>2007-02-27</td>\n",
       "      <td>12.328571</td>\n",
       "      <td>12.440000</td>\n",
       "      <td>11.915714</td>\n",
       "      <td>11.990000</td>\n",
       "      <td>down</td>\n",
       "      <td>-0.005988</td>\n",
       "      <td>2</td>\n",
       "      <td>small</td>\n",
       "      <td>short</td>\n",
       "    </tr>\n",
       "  </tbody>\n",
       "</table>\n",
       "</div>"
      ],
      "text/plain": [
       "         Date       Open       High        Low      Close   Gap  Gap Variance  \\\n",
       "0  2007-01-10  13.535714  13.971429  13.350000  13.857142    up      0.005077   \n",
       "1  2007-01-12  13.512857  13.580000  13.318571  13.517143  down     -0.000418   \n",
       "2  2007-01-16  13.668571  13.892858  13.635715  13.871428    up      0.004122   \n",
       "3  2007-01-18  13.157143  13.158571  12.721429  12.724286  down     -0.028541   \n",
       "4  2007-02-27  12.328571  12.440000  11.915714  11.990000  down     -0.005988   \n",
       "\n",
       "   Period gap_size period_term  \n",
       "0       5    small       short  \n",
       "1       1    small       short  \n",
       "2       1    small       short  \n",
       "3      46    large         mid  \n",
       "4       2    small       short  "
      ]
     },
     "execution_count": 35,
     "metadata": {},
     "output_type": "execute_result"
    }
   ],
   "source": [
    "dfa['period_term']=periodsize\n",
    "dfa.head()"
   ]
  },
  {
   "cell_type": "code",
   "execution_count": 41,
   "metadata": {},
   "outputs": [
    {
     "data": {
      "text/html": [
       "<div>\n",
       "<style scoped>\n",
       "    .dataframe tbody tr th:only-of-type {\n",
       "        vertical-align: middle;\n",
       "    }\n",
       "\n",
       "    .dataframe tbody tr th {\n",
       "        vertical-align: top;\n",
       "    }\n",
       "\n",
       "    .dataframe thead th {\n",
       "        text-align: right;\n",
       "    }\n",
       "</style>\n",
       "<table border=\"1\" class=\"dataframe\">\n",
       "  <thead>\n",
       "    <tr style=\"text-align: right;\">\n",
       "      <th></th>\n",
       "      <th>Gap Variance</th>\n",
       "      <th>Period</th>\n",
       "    </tr>\n",
       "  </thead>\n",
       "  <tbody>\n",
       "    <tr>\n",
       "      <th>Gap Variance</th>\n",
       "      <td>1.000000</td>\n",
       "      <td>-0.014707</td>\n",
       "    </tr>\n",
       "    <tr>\n",
       "      <th>Period</th>\n",
       "      <td>-0.014707</td>\n",
       "      <td>1.000000</td>\n",
       "    </tr>\n",
       "  </tbody>\n",
       "</table>\n",
       "</div>"
      ],
      "text/plain": [
       "              Gap Variance    Period\n",
       "Gap Variance      1.000000 -0.014707\n",
       "Period           -0.014707  1.000000"
      ]
     },
     "execution_count": 41,
     "metadata": {},
     "output_type": "execute_result"
    }
   ],
   "source": [
    "# Find the correlation between Gap variance and Period\n",
    "df_cor=dfa[['Gap Variance','Period']]\n",
    "df_cor.corr()"
   ]
  },
  {
   "cell_type": "code",
   "execution_count": 46,
   "metadata": {},
   "outputs": [],
   "source": [
    "dfa.to_csv('C:/Users/hr/Desktop/project_data.csv')"
   ]
  },
  {
   "cell_type": "code",
   "execution_count": null,
   "metadata": {},
   "outputs": [],
   "source": []
  },
  {
   "cell_type": "code",
   "execution_count": null,
   "metadata": {},
   "outputs": [],
   "source": [
    "# Portfolio Optimization Test"
   ]
  },
  {
   "cell_type": "code",
   "execution_count": 3,
   "metadata": {},
   "outputs": [],
   "source": [
    "import pandas as pd\n",
    "import numpy as np"
   ]
  },
  {
   "cell_type": "code",
   "execution_count": 4,
   "metadata": {},
   "outputs": [
    {
     "data": {
      "text/plain": [
       "{}"
      ]
     },
     "execution_count": 4,
     "metadata": {},
     "output_type": "execute_result"
    }
   ],
   "source": [
    "allfiles = glob.glob('C:/Users/hr/Desktop/advanced python/project/project_data/*.csv')\n",
    "stock_list=['AAPL','AMZN','BIDU','CSCO','GOOG','IBM','MSFT']\n",
    "stock_dic={}\n",
    "for i in range(len(allfiles)):\n",
    "    stock_dic[stock_list[i]]=allfiles[i]\n",
    "stock_dic"
   ]
  },
  {
   "cell_type": "code",
   "execution_count": 5,
   "metadata": {},
   "outputs": [],
   "source": [
    "close_price_list=[]\n",
    "for i in stock_dic.keys():\n",
    "    df=pd.read_csv(stock_dic[i],index_col='Date')\n",
    "    df=df[['Adj Close']]\n",
    "    close_price_list.append(df)"
   ]
  },
  {
   "cell_type": "code",
   "execution_count": 96,
   "metadata": {},
   "outputs": [
    {
     "name": "stderr",
     "output_type": "stream",
     "text": [
      "D:\\anaconda\\lib\\site-packages\\ipykernel_launcher.py:1: FutureWarning: Sorting because non-concatenation axis is not aligned. A future version\n",
      "of pandas will change to not sort by default.\n",
      "\n",
      "To accept the future behavior, pass 'sort=False'.\n",
      "\n",
      "To retain the current behavior and silence the warning, pass 'sort=True'.\n",
      "\n",
      "  \"\"\"Entry point for launching an IPython kernel.\n"
     ]
    },
    {
     "data": {
      "text/html": [
       "<div>\n",
       "<style scoped>\n",
       "    .dataframe tbody tr th:only-of-type {\n",
       "        vertical-align: middle;\n",
       "    }\n",
       "\n",
       "    .dataframe tbody tr th {\n",
       "        vertical-align: top;\n",
       "    }\n",
       "\n",
       "    .dataframe thead th {\n",
       "        text-align: right;\n",
       "    }\n",
       "</style>\n",
       "<table border=\"1\" class=\"dataframe\">\n",
       "  <thead>\n",
       "    <tr style=\"text-align: right;\">\n",
       "      <th></th>\n",
       "      <th>appl</th>\n",
       "      <th>amzn</th>\n",
       "      <th>bidu</th>\n",
       "      <th>csco</th>\n",
       "      <th>goog</th>\n",
       "      <th>ibm</th>\n",
       "      <th>msft</th>\n",
       "    </tr>\n",
       "  </thead>\n",
       "  <tbody>\n",
       "    <tr>\n",
       "      <th>2007-01-03</th>\n",
       "      <td>10.391690</td>\n",
       "      <td>38.700001</td>\n",
       "      <td>12.241</td>\n",
       "      <td>21.264582</td>\n",
       "      <td>NaN</td>\n",
       "      <td>66.986580</td>\n",
       "      <td>22.185307</td>\n",
       "    </tr>\n",
       "    <tr>\n",
       "      <th>2007-01-04</th>\n",
       "      <td>10.622340</td>\n",
       "      <td>38.900002</td>\n",
       "      <td>12.600</td>\n",
       "      <td>21.824373</td>\n",
       "      <td>NaN</td>\n",
       "      <td>67.702835</td>\n",
       "      <td>22.148153</td>\n",
       "    </tr>\n",
       "    <tr>\n",
       "      <th>2007-01-05</th>\n",
       "      <td>10.546695</td>\n",
       "      <td>38.369999</td>\n",
       "      <td>12.250</td>\n",
       "      <td>21.832045</td>\n",
       "      <td>NaN</td>\n",
       "      <td>67.089897</td>\n",
       "      <td>22.021847</td>\n",
       "    </tr>\n",
       "    <tr>\n",
       "      <th>2007-01-08</th>\n",
       "      <td>10.598778</td>\n",
       "      <td>37.500000</td>\n",
       "      <td>12.195</td>\n",
       "      <td>21.954746</td>\n",
       "      <td>NaN</td>\n",
       "      <td>68.109116</td>\n",
       "      <td>22.237307</td>\n",
       "    </tr>\n",
       "    <tr>\n",
       "      <th>2007-01-09</th>\n",
       "      <td>11.479221</td>\n",
       "      <td>37.779999</td>\n",
       "      <td>12.372</td>\n",
       "      <td>21.832045</td>\n",
       "      <td>NaN</td>\n",
       "      <td>68.914879</td>\n",
       "      <td>22.259609</td>\n",
       "    </tr>\n",
       "  </tbody>\n",
       "</table>\n",
       "</div>"
      ],
      "text/plain": [
       "                 appl       amzn    bidu       csco  goog        ibm  \\\n",
       "2007-01-03  10.391690  38.700001  12.241  21.264582   NaN  66.986580   \n",
       "2007-01-04  10.622340  38.900002  12.600  21.824373   NaN  67.702835   \n",
       "2007-01-05  10.546695  38.369999  12.250  21.832045   NaN  67.089897   \n",
       "2007-01-08  10.598778  37.500000  12.195  21.954746   NaN  68.109116   \n",
       "2007-01-09  11.479221  37.779999  12.372  21.832045   NaN  68.914879   \n",
       "\n",
       "                 msft  \n",
       "2007-01-03  22.185307  \n",
       "2007-01-04  22.148153  \n",
       "2007-01-05  22.021847  \n",
       "2007-01-08  22.237307  \n",
       "2007-01-09  22.259609  "
      ]
     },
     "execution_count": 96,
     "metadata": {},
     "output_type": "execute_result"
    }
   ],
   "source": [
    "stocks=pd.concat(close_price_list,axis=1)\n",
    "stocks.columns=['appl','amzn','bidu','csco','goog','ibm','msft']\n",
    "stocks.head()"
   ]
  },
  {
   "cell_type": "code",
   "execution_count": 6,
   "metadata": {},
   "outputs": [
    {
     "ename": "NameError",
     "evalue": "name 'stocks' is not defined",
     "output_type": "error",
     "traceback": [
      "\u001b[1;31m---------------------------------------------------------------------------\u001b[0m",
      "\u001b[1;31mNameError\u001b[0m                                 Traceback (most recent call last)",
      "\u001b[1;32m<ipython-input-6-abef51066104>\u001b[0m in \u001b[0;36m<module>\u001b[1;34m\u001b[0m\n\u001b[0;32m      1\u001b[0m \u001b[1;31m#Mean daily return\u001b[0m\u001b[1;33m\u001b[0m\u001b[1;33m\u001b[0m\u001b[1;33m\u001b[0m\u001b[0m\n\u001b[1;32m----> 2\u001b[1;33m \u001b[0mstocks\u001b[0m\u001b[1;33m.\u001b[0m\u001b[0mpct_change\u001b[0m\u001b[1;33m(\u001b[0m\u001b[1;33m)\u001b[0m\u001b[1;33m.\u001b[0m\u001b[0mmean\u001b[0m\u001b[1;33m(\u001b[0m\u001b[1;33m)\u001b[0m\u001b[1;33m\u001b[0m\u001b[1;33m\u001b[0m\u001b[0m\n\u001b[0m",
      "\u001b[1;31mNameError\u001b[0m: name 'stocks' is not defined"
     ]
    }
   ],
   "source": [
    "#Mean daily return\n",
    "stocks.pct_change().mean()"
   ]
  },
  {
   "cell_type": "code",
   "execution_count": 7,
   "metadata": {},
   "outputs": [
    {
     "ename": "NameError",
     "evalue": "name 'stocks' is not defined",
     "output_type": "error",
     "traceback": [
      "\u001b[1;31m---------------------------------------------------------------------------\u001b[0m",
      "\u001b[1;31mNameError\u001b[0m                                 Traceback (most recent call last)",
      "\u001b[1;32m<ipython-input-7-37d229e3c49f>\u001b[0m in \u001b[0;36m<module>\u001b[1;34m\u001b[0m\n\u001b[0;32m      1\u001b[0m \u001b[1;31m#Corelation between return\u001b[0m\u001b[1;33m\u001b[0m\u001b[1;33m\u001b[0m\u001b[1;33m\u001b[0m\u001b[0m\n\u001b[1;32m----> 2\u001b[1;33m \u001b[0mstocks\u001b[0m\u001b[1;33m.\u001b[0m\u001b[0mpct_change\u001b[0m\u001b[1;33m(\u001b[0m\u001b[1;33m)\u001b[0m\u001b[1;33m.\u001b[0m\u001b[0mcorr\u001b[0m\u001b[1;33m(\u001b[0m\u001b[1;33m)\u001b[0m\u001b[1;33m\u001b[0m\u001b[1;33m\u001b[0m\u001b[0m\n\u001b[0m",
      "\u001b[1;31mNameError\u001b[0m: name 'stocks' is not defined"
     ]
    }
   ],
   "source": [
    "#Corelation between return\n",
    "stocks.pct_change().corr()"
   ]
  },
  {
   "cell_type": "code",
   "execution_count": 101,
   "metadata": {},
   "outputs": [
    {
     "data": {
      "text/html": [
       "<div>\n",
       "<style scoped>\n",
       "    .dataframe tbody tr th:only-of-type {\n",
       "        vertical-align: middle;\n",
       "    }\n",
       "\n",
       "    .dataframe tbody tr th {\n",
       "        vertical-align: top;\n",
       "    }\n",
       "\n",
       "    .dataframe thead th {\n",
       "        text-align: right;\n",
       "    }\n",
       "</style>\n",
       "<table border=\"1\" class=\"dataframe\">\n",
       "  <thead>\n",
       "    <tr style=\"text-align: right;\">\n",
       "      <th></th>\n",
       "      <th>appl</th>\n",
       "      <th>amzn</th>\n",
       "      <th>bidu</th>\n",
       "      <th>csco</th>\n",
       "      <th>goog</th>\n",
       "      <th>ibm</th>\n",
       "      <th>msft</th>\n",
       "    </tr>\n",
       "  </thead>\n",
       "  <tbody>\n",
       "    <tr>\n",
       "      <th>2007-01-03</th>\n",
       "      <td>NaN</td>\n",
       "      <td>NaN</td>\n",
       "      <td>NaN</td>\n",
       "      <td>NaN</td>\n",
       "      <td>NaN</td>\n",
       "      <td>NaN</td>\n",
       "      <td>NaN</td>\n",
       "    </tr>\n",
       "    <tr>\n",
       "      <th>2007-01-04</th>\n",
       "      <td>0.021953</td>\n",
       "      <td>0.005155</td>\n",
       "      <td>0.028906</td>\n",
       "      <td>0.025985</td>\n",
       "      <td>NaN</td>\n",
       "      <td>0.010636</td>\n",
       "      <td>-0.001676</td>\n",
       "    </tr>\n",
       "    <tr>\n",
       "      <th>2007-01-05</th>\n",
       "      <td>-0.007147</td>\n",
       "      <td>-0.013718</td>\n",
       "      <td>-0.028171</td>\n",
       "      <td>0.000351</td>\n",
       "      <td>NaN</td>\n",
       "      <td>-0.009095</td>\n",
       "      <td>-0.005719</td>\n",
       "    </tr>\n",
       "    <tr>\n",
       "      <th>2007-01-08</th>\n",
       "      <td>0.004926</td>\n",
       "      <td>-0.022935</td>\n",
       "      <td>-0.004500</td>\n",
       "      <td>0.005604</td>\n",
       "      <td>NaN</td>\n",
       "      <td>0.015078</td>\n",
       "      <td>0.009736</td>\n",
       "    </tr>\n",
       "    <tr>\n",
       "      <th>2007-01-09</th>\n",
       "      <td>0.079800</td>\n",
       "      <td>0.007439</td>\n",
       "      <td>0.014410</td>\n",
       "      <td>-0.005604</td>\n",
       "      <td>NaN</td>\n",
       "      <td>0.011761</td>\n",
       "      <td>0.001002</td>\n",
       "    </tr>\n",
       "  </tbody>\n",
       "</table>\n",
       "</div>"
      ],
      "text/plain": [
       "                appl      amzn      bidu      csco  goog       ibm      msft\n",
       "2007-01-03       NaN       NaN       NaN       NaN   NaN       NaN       NaN\n",
       "2007-01-04  0.021953  0.005155  0.028906  0.025985   NaN  0.010636 -0.001676\n",
       "2007-01-05 -0.007147 -0.013718 -0.028171  0.000351   NaN -0.009095 -0.005719\n",
       "2007-01-08  0.004926 -0.022935 -0.004500  0.005604   NaN  0.015078  0.009736\n",
       "2007-01-09  0.079800  0.007439  0.014410 -0.005604   NaN  0.011761  0.001002"
      ]
     },
     "execution_count": 101,
     "metadata": {},
     "output_type": "execute_result"
    }
   ],
   "source": [
    "#Stock Log Return\n",
    "log_return=np.log(stocks/stocks.shift(1))\n",
    "log_return.head()"
   ]
  },
  {
   "cell_type": "code",
   "execution_count": 102,
   "metadata": {},
   "outputs": [
    {
     "data": {
      "image/png": "[encoded data removed]",
      "text/plain": [
       "<Figure size 432x288 with 9 Axes>"
      ]
     },
     "metadata": {
      "needs_background": "light"
     },
     "output_type": "display_data"
    }
   ],
   "source": [
    "log_return.hist(bins=50)\n",
    "plt.tight_layout()"
   ]
  },
  {
   "cell_type": "code",
   "execution_count": 103,
   "metadata": {},
   "outputs": [],
   "source": [
    "#Portfolio Optimization\n",
    "\n",
    "num_ports=5000  #number of porfolio in testing\n",
    "all_weight=np.zeros((num_ports,len(stocks.columns)))\n",
    "ret_arr=np.zeros(num_ports)\n",
    "vol_arr=np.zeros(num_ports)\n",
    "sharp_arr=np.zeros(num_ports)\n",
    "\n",
    "for ind in range(num_ports):\n",
    "    #Weight\n",
    "    weights=np.array(np.random.random(7))\n",
    "    weights=weights/np.sum(weights)\n",
    "    #Save Weights\n",
    "    all_weight[ind,:]=weights\n",
    "    #Expected Return\n",
    "    ret_arr[ind]=np.sum((log_return.mean())*weights*252)\n",
    "    #Expected Volatility\n",
    "    vol_arr[ind]=np.sqrt(np.dot(weights.T,np.dot(log_return.cov()*252,weights)))\n",
    "    #Sharp Ratio\n",
    "    sharp_arr[ind]=ret_arr[ind]/vol_arr[ind]"
   ]
  },
  {
   "cell_type": "code",
   "execution_count": 104,
   "metadata": {},
   "outputs": [
    {
     "data": {
      "text/plain": [
       "0.8832515302536356"
      ]
     },
     "execution_count": 104,
     "metadata": {},
     "output_type": "execute_result"
    }
   ],
   "source": [
    "sharp_arr.max()\n",
    "#sharp value allocation"
   ]
  },
  {
   "cell_type": "code",
   "execution_count": 105,
   "metadata": {},
   "outputs": [
    {
     "data": {
      "text/plain": [
       "900"
      ]
     },
     "execution_count": 105,
     "metadata": {},
     "output_type": "execute_result"
    }
   ],
   "source": [
    "sharp_arr.argmax()"
   ]
  },
  {
   "cell_type": "code",
   "execution_count": 106,
   "metadata": {},
   "outputs": [
    {
     "data": {
      "text/plain": [
       "array([0.31836812, 0.41418742, 0.00131501, 0.02698131, 0.13989752,\n",
       "       0.0043813 , 0.09486932])"
      ]
     },
     "execution_count": 106,
     "metadata": {},
     "output_type": "execute_result"
    }
   ],
   "source": [
    "all_weight[900]"
   ]
  },
  {
   "cell_type": "code",
   "execution_count": 108,
   "metadata": {},
   "outputs": [
    {
     "data": {
      "text/plain": [
       "<matplotlib.collections.PathCollection at 0x13043ee47b8>"
      ]
     },
     "execution_count": 108,
     "metadata": {},
     "output_type": "execute_result"
    },
    {
     "data": {
      "image/png": "[encoded data removed]",
      "text/plain": [
       "<Figure size 1080x720 with 2 Axes>"
      ]
     },
     "metadata": {
      "needs_background": "light"
     },
     "output_type": "display_data"
    }
   ],
   "source": [
    "plt.figure(figsize=(15,10))\n",
    "plt.scatter(vol_arr,ret_arr,c=sharp_arr)\n",
    "plt.colorbar(label='Sharp Ratio')\n",
    "plt.xlabel('Volatility')\n",
    "plt.ylabel('Return')\n",
    "\n",
    "max_sr_return=ret_arr[900]\n",
    "max_sr_vol=vol_arr[900]\n",
    "plt.scatter(max_sr_vol,max_sr_return,c='red',s=100,edgecolor='black')"
   ]
  },
  {
   "cell_type": "code",
   "execution_count": null,
   "metadata": {},
   "outputs": [],
   "source": []
  },
  {
   "cell_type": "code",
   "execution_count": null,
   "metadata": {},
   "outputs": [],
   "source": []
  }
 ],
 "metadata": {
  "kernelspec": {
   "display_name": "Python 3",
   "language": "python",
   "name": "python3"
  },
  "language_info": {
   "codemirror_mode": {
    "name": "ipython",
    "version": 3
   },
   "file_extension": ".py",
   "mimetype": "text/x-python",
   "name": "python",
   "nbconvert_exporter": "python",
   "pygments_lexer": "ipython3",
   "version": "3.7.6"
  }
 },
 "nbformat": 4,
 "nbformat_minor": 2
}
